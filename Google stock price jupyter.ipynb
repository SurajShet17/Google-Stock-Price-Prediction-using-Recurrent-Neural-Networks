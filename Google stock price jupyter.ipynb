{
 "cells": [
  {
   "cell_type": "markdown",
   "id": "08e75793",
   "metadata": {},
   "source": [
    "# Recurrent Neural Networks\n",
    "## Importing the libraries"
   ]
  },
  {
   "cell_type": "code",
   "execution_count": 1,
   "id": "61dc47a0",
   "metadata": {},
   "outputs": [],
   "source": [
    "import numpy as np\n",
    "import matplotlib.pyplot as plt\n",
    "import pandas as pd\n"
   ]
  },
  {
   "cell_type": "code",
   "execution_count": 2,
   "id": "9fe8e905",
   "metadata": {},
   "outputs": [],
   "source": [
    "dataset_train = pd.read_csv('Google_Stock_Price_Train.csv')"
   ]
  },
  {
   "cell_type": "code",
   "execution_count": 3,
   "id": "e68a5075",
   "metadata": {},
   "outputs": [
    {
     "data": {
      "text/html": [
       "<div>\n",
       "<style scoped>\n",
       "    .dataframe tbody tr th:only-of-type {\n",
       "        vertical-align: middle;\n",
       "    }\n",
       "\n",
       "    .dataframe tbody tr th {\n",
       "        vertical-align: top;\n",
       "    }\n",
       "\n",
       "    .dataframe thead th {\n",
       "        text-align: right;\n",
       "    }\n",
       "</style>\n",
       "<table border=\"1\" class=\"dataframe\">\n",
       "  <thead>\n",
       "    <tr style=\"text-align: right;\">\n",
       "      <th></th>\n",
       "      <th>Date</th>\n",
       "      <th>Open</th>\n",
       "      <th>High</th>\n",
       "      <th>Low</th>\n",
       "      <th>Close</th>\n",
       "      <th>Volume</th>\n",
       "    </tr>\n",
       "  </thead>\n",
       "  <tbody>\n",
       "    <tr>\n",
       "      <th>0</th>\n",
       "      <td>1/3/2012</td>\n",
       "      <td>325.25</td>\n",
       "      <td>332.83</td>\n",
       "      <td>324.97</td>\n",
       "      <td>663.59</td>\n",
       "      <td>7,380,500</td>\n",
       "    </tr>\n",
       "    <tr>\n",
       "      <th>1</th>\n",
       "      <td>1/4/2012</td>\n",
       "      <td>331.27</td>\n",
       "      <td>333.87</td>\n",
       "      <td>329.08</td>\n",
       "      <td>666.45</td>\n",
       "      <td>5,749,400</td>\n",
       "    </tr>\n",
       "    <tr>\n",
       "      <th>2</th>\n",
       "      <td>1/5/2012</td>\n",
       "      <td>329.83</td>\n",
       "      <td>330.75</td>\n",
       "      <td>326.89</td>\n",
       "      <td>657.21</td>\n",
       "      <td>6,590,300</td>\n",
       "    </tr>\n",
       "    <tr>\n",
       "      <th>3</th>\n",
       "      <td>1/6/2012</td>\n",
       "      <td>328.34</td>\n",
       "      <td>328.77</td>\n",
       "      <td>323.68</td>\n",
       "      <td>648.24</td>\n",
       "      <td>5,405,900</td>\n",
       "    </tr>\n",
       "    <tr>\n",
       "      <th>4</th>\n",
       "      <td>1/9/2012</td>\n",
       "      <td>322.04</td>\n",
       "      <td>322.29</td>\n",
       "      <td>309.46</td>\n",
       "      <td>620.76</td>\n",
       "      <td>11,688,800</td>\n",
       "    </tr>\n",
       "    <tr>\n",
       "      <th>...</th>\n",
       "      <td>...</td>\n",
       "      <td>...</td>\n",
       "      <td>...</td>\n",
       "      <td>...</td>\n",
       "      <td>...</td>\n",
       "      <td>...</td>\n",
       "    </tr>\n",
       "    <tr>\n",
       "      <th>1253</th>\n",
       "      <td>12/23/2016</td>\n",
       "      <td>790.90</td>\n",
       "      <td>792.74</td>\n",
       "      <td>787.28</td>\n",
       "      <td>789.91</td>\n",
       "      <td>623,400</td>\n",
       "    </tr>\n",
       "    <tr>\n",
       "      <th>1254</th>\n",
       "      <td>12/27/2016</td>\n",
       "      <td>790.68</td>\n",
       "      <td>797.86</td>\n",
       "      <td>787.66</td>\n",
       "      <td>791.55</td>\n",
       "      <td>789,100</td>\n",
       "    </tr>\n",
       "    <tr>\n",
       "      <th>1255</th>\n",
       "      <td>12/28/2016</td>\n",
       "      <td>793.70</td>\n",
       "      <td>794.23</td>\n",
       "      <td>783.20</td>\n",
       "      <td>785.05</td>\n",
       "      <td>1,153,800</td>\n",
       "    </tr>\n",
       "    <tr>\n",
       "      <th>1256</th>\n",
       "      <td>12/29/2016</td>\n",
       "      <td>783.33</td>\n",
       "      <td>785.93</td>\n",
       "      <td>778.92</td>\n",
       "      <td>782.79</td>\n",
       "      <td>744,300</td>\n",
       "    </tr>\n",
       "    <tr>\n",
       "      <th>1257</th>\n",
       "      <td>12/30/2016</td>\n",
       "      <td>782.75</td>\n",
       "      <td>782.78</td>\n",
       "      <td>770.41</td>\n",
       "      <td>771.82</td>\n",
       "      <td>1,770,000</td>\n",
       "    </tr>\n",
       "  </tbody>\n",
       "</table>\n",
       "<p>1258 rows × 6 columns</p>\n",
       "</div>"
      ],
      "text/plain": [
       "            Date    Open    High     Low   Close      Volume\n",
       "0       1/3/2012  325.25  332.83  324.97  663.59   7,380,500\n",
       "1       1/4/2012  331.27  333.87  329.08  666.45   5,749,400\n",
       "2       1/5/2012  329.83  330.75  326.89  657.21   6,590,300\n",
       "3       1/6/2012  328.34  328.77  323.68  648.24   5,405,900\n",
       "4       1/9/2012  322.04  322.29  309.46  620.76  11,688,800\n",
       "...          ...     ...     ...     ...     ...         ...\n",
       "1253  12/23/2016  790.90  792.74  787.28  789.91     623,400\n",
       "1254  12/27/2016  790.68  797.86  787.66  791.55     789,100\n",
       "1255  12/28/2016  793.70  794.23  783.20  785.05   1,153,800\n",
       "1256  12/29/2016  783.33  785.93  778.92  782.79     744,300\n",
       "1257  12/30/2016  782.75  782.78  770.41  771.82   1,770,000\n",
       "\n",
       "[1258 rows x 6 columns]"
      ]
     },
     "execution_count": 3,
     "metadata": {},
     "output_type": "execute_result"
    }
   ],
   "source": [
    "dataset_train"
   ]
  },
  {
   "cell_type": "markdown",
   "id": "6daab6b7",
   "metadata": {},
   "source": [
    "## Importing the training set"
   ]
  },
  {
   "cell_type": "code",
   "execution_count": 4,
   "id": "fed680c4",
   "metadata": {},
   "outputs": [],
   "source": [
    "\n",
    "# we are going to train it on training set\n",
    "# only\n",
    "# we want to create a np array from below column\n",
    "training_set = dataset_train.iloc[:, 1:2].values"
   ]
  },
  {
   "cell_type": "code",
   "execution_count": 5,
   "id": "0d79e7a2",
   "metadata": {},
   "outputs": [
    {
     "data": {
      "text/plain": [
       "array([[325.25],\n",
       "       [331.27],\n",
       "       [329.83],\n",
       "       ...,\n",
       "       [793.7 ],\n",
       "       [783.33],\n",
       "       [782.75]])"
      ]
     },
     "execution_count": 5,
     "metadata": {},
     "output_type": "execute_result"
    }
   ],
   "source": [
    "# .values creates numpy arrays\n",
    "training_set.values"
   ]
  },
  {
   "cell_type": "markdown",
   "id": "27122b09",
   "metadata": {},
   "source": [
    "* For RNN we use normalization for feature scaling as we have sigmoid func\n",
    "in the output layer of RNN\n",
    "* apply minmax from sklearn"
   ]
  },
  {
   "cell_type": "code",
   "execution_count": 6,
   "id": "eaaa9d65",
   "metadata": {},
   "outputs": [],
   "source": [
    "from sklearn.preprocessing import MinMaxScaler\n",
    "sc = MinMaxScaler(feature_range = (0,1))\n",
    "# all the new stock prices will be in 0 to 1"
   ]
  },
  {
   "cell_type": "code",
   "execution_count": 7,
   "id": "9d4ee9e2",
   "metadata": {},
   "outputs": [],
   "source": [
    "training_set_scaled = sc.fit_transform(training_set)\n",
    "# fit means it is going to get min of the data and max of the data\n",
    "#  transform method it is going tocompute for each of the stock prices"
   ]
  },
  {
   "cell_type": "code",
   "execution_count": 8,
   "id": "1dfd9836",
   "metadata": {},
   "outputs": [
    {
     "data": {
      "text/plain": [
       "array([[0.08581368],\n",
       "       [0.09701243],\n",
       "       [0.09433366],\n",
       "       ...,\n",
       "       [0.95725128],\n",
       "       [0.93796041],\n",
       "       [0.93688146]])"
      ]
     },
     "execution_count": 8,
     "metadata": {},
     "output_type": "execute_result"
    }
   ],
   "source": [
    "training_set_scaled"
   ]
  },
  {
   "cell_type": "markdown",
   "id": "a44b47ce",
   "metadata": {},
   "source": [
    "* Now we will create a specific data structure for RNN (important) that what the RNN\n",
    "will need to remember when predicting the next stock price called NUMBER OF TIME STEPS"
   ]
  },
  {
   "cell_type": "markdown",
   "id": "73b5f665",
   "metadata": {},
   "source": [
    "* Wrong number of time steps will lead to overfitting or nonsense predictions"
   ]
  },
  {
   "cell_type": "markdown",
   "id": "8541159e",
   "metadata": {},
   "source": [
    "## Creating a data structure with 60 time steps and 1 output"
   ]
  },
  {
   "cell_type": "markdown",
   "id": "e43fb4cf",
   "metadata": {},
   "source": [
    "* at each time t the RNN is going to look back at 60 stock prices before time t and based\n",
    "on the trends its captures during 60 previous timesteps it will try to predict the next output.\n",
    "* One month has 20 days so 60 days means from 3 month previous we will try to predict the next output. "
   ]
  },
  {
   "cell_type": "markdown",
   "id": "8dc940f9",
   "metadata": {},
   "source": [
    "* Here x_train which will be input to NN\n",
    "* y_train will be output"
   ]
  },
  {
   "cell_type": "code",
   "execution_count": 9,
   "id": "9d21dbdf",
   "metadata": {},
   "outputs": [],
   "source": [
    "x_train = []\n",
    "y_train = []\n",
    "# as we are going to get 60 previous stock prices we are going to start from 60th observation in for loop\n",
    "for i in range(60, len(training_set_scaled)):\n",
    "    x_train.append(training_set_scaled[i-60:i, 0]) # upper bound get excluded, 0 means 1 column\n",
    "    y_train.append(training_set_scaled[i, 0])\n",
    "\n",
    "x_train, y_train = np.array(x_train), np.array(y_train)"
   ]
  },
  {
   "cell_type": "code",
   "execution_count": 10,
   "id": "d3c6e9e6",
   "metadata": {},
   "outputs": [
    {
     "data": {
      "text/plain": [
       "array([[0.08581368, 0.09701243, 0.09433366, ..., 0.07846566, 0.08034452,\n",
       "        0.08497656],\n",
       "       [0.09701243, 0.09433366, 0.09156187, ..., 0.08034452, 0.08497656,\n",
       "        0.08627874],\n",
       "       [0.09433366, 0.09156187, 0.07984225, ..., 0.08497656, 0.08627874,\n",
       "        0.08471612],\n",
       "       ...,\n",
       "       [0.92106928, 0.92438053, 0.93048218, ..., 0.95475854, 0.95204256,\n",
       "        0.95163331],\n",
       "       [0.92438053, 0.93048218, 0.9299055 , ..., 0.95204256, 0.95163331,\n",
       "        0.95725128],\n",
       "       [0.93048218, 0.9299055 , 0.93113327, ..., 0.95163331, 0.95725128,\n",
       "        0.93796041]])"
      ]
     },
     "execution_count": 10,
     "metadata": {},
     "output_type": "execute_result"
    }
   ],
   "source": [
    "x_train\n",
    "# the first line of observation corr to time t=60 (59 values) (row wise)\n",
    "# the  second line of observation corr to time t=61 (row wise\n",
    "# we ahve sliding window kind of observations"
   ]
  },
  {
   "cell_type": "code",
   "execution_count": 11,
   "id": "0c086949",
   "metadata": {},
   "outputs": [
    {
     "data": {
      "text/plain": [
       "array([0.08627874, 0.08471612, 0.07454052, ..., 0.95725128, 0.93796041,\n",
       "       0.93688146])"
      ]
     },
     "execution_count": 11,
     "metadata": {},
     "output_type": "execute_result"
    }
   ],
   "source": [
    "y_train"
   ]
  },
  {
   "cell_type": "markdown",
   "id": "0c45a2be",
   "metadata": {},
   "source": [
    "* We have to add a new dimension to this structure\n",
    "* to predict price we dont have to do with only price but also other columns in data set like\n",
    "close, volume columns."
   ]
  },
  {
   "cell_type": "markdown",
   "id": "564b9e15",
   "metadata": {},
   "source": [
    "## Reshaping The data "
   ]
  },
  {
   "cell_type": "markdown",
   "id": "64d11390",
   "metadata": {},
   "source": [
    "* adding some even more dimensionality\n",
    "* adding more indicator from our dataset to help better predict"
   ]
  },
  {
   "cell_type": "code",
   "execution_count": 12,
   "id": "6f06c2ea",
   "metadata": {},
   "outputs": [
    {
     "data": {
      "text/plain": [
       "(1198, 1198, 60)"
      ]
     },
     "execution_count": 12,
     "metadata": {},
     "output_type": "execute_result"
    }
   ],
   "source": [
    "len(x_train), x_train.shape[0], x_train.shape[1]"
   ]
  },
  {
   "cell_type": "markdown",
   "id": "793cf621",
   "metadata": {},
   "source": [
    "* x_train is 2D in shape 1198lines ,60 columns\n",
    "* we are going to add this new dimension and convert to 3D\n",
    "* the 3rd dimension will correspond to the indicators\n",
    "* look for keras doc --> recurrent layers -->input shapes\n",
    "* here we have the 3D tensor with shape (number of observations or number of batches,\n",
    "                                        timestops, input dimensions of indicators)\n"
   ]
  },
  {
   "cell_type": "code",
   "execution_count": 13,
   "id": "12724ee3",
   "metadata": {},
   "outputs": [],
   "source": [
    "# we have only 1 indicator here so 1 that is open google stock price\n",
    "x_train = np.reshape(x_train, (x_train.shape[0], x_train.shape[1], 1))\n"
   ]
  },
  {
   "cell_type": "code",
   "execution_count": 14,
   "id": "3242988b",
   "metadata": {},
   "outputs": [
    {
     "data": {
      "text/plain": [
       "array([[[0.08581368],\n",
       "        [0.09701243],\n",
       "        [0.09433366],\n",
       "        ...,\n",
       "        [0.07846566],\n",
       "        [0.08034452],\n",
       "        [0.08497656]],\n",
       "\n",
       "       [[0.09701243],\n",
       "        [0.09433366],\n",
       "        [0.09156187],\n",
       "        ...,\n",
       "        [0.08034452],\n",
       "        [0.08497656],\n",
       "        [0.08627874]],\n",
       "\n",
       "       [[0.09433366],\n",
       "        [0.09156187],\n",
       "        [0.07984225],\n",
       "        ...,\n",
       "        [0.08497656],\n",
       "        [0.08627874],\n",
       "        [0.08471612]],\n",
       "\n",
       "       ...,\n",
       "\n",
       "       [[0.92106928],\n",
       "        [0.92438053],\n",
       "        [0.93048218],\n",
       "        ...,\n",
       "        [0.95475854],\n",
       "        [0.95204256],\n",
       "        [0.95163331]],\n",
       "\n",
       "       [[0.92438053],\n",
       "        [0.93048218],\n",
       "        [0.9299055 ],\n",
       "        ...,\n",
       "        [0.95204256],\n",
       "        [0.95163331],\n",
       "        [0.95725128]],\n",
       "\n",
       "       [[0.93048218],\n",
       "        [0.9299055 ],\n",
       "        [0.93113327],\n",
       "        ...,\n",
       "        [0.95163331],\n",
       "        [0.95725128],\n",
       "        [0.93796041]]])"
      ]
     },
     "execution_count": 14,
     "metadata": {},
     "output_type": "execute_result"
    }
   ],
   "source": [
    "x_train # 3D tensor"
   ]
  },
  {
   "cell_type": "markdown",
   "id": "0d5af171",
   "metadata": {},
   "source": [
    "## Building The RNN"
   ]
  },
  {
   "cell_type": "markdown",
   "id": "2c1d7e1c",
   "metadata": {},
   "source": [
    "* Making a stacked LSTM with some dropout regulization to prevent overfitting"
   ]
  },
  {
   "cell_type": "markdown",
   "id": "da118404",
   "metadata": {},
   "source": [
    "### Import the keras libraries and packages"
   ]
  },
  {
   "cell_type": "code",
   "execution_count": 15,
   "id": "571fb4a9",
   "metadata": {},
   "outputs": [],
   "source": [
    "from keras.models import Sequential\n",
    "from keras.layers import Dense\n",
    "from keras.layers import LSTM\n",
    "from keras.layers import Dropout\n"
   ]
  },
  {
   "cell_type": "markdown",
   "id": "6545dd5a",
   "metadata": {},
   "source": [
    "### Initialize our RNN"
   ]
  },
  {
   "cell_type": "markdown",
   "id": "4d43ccc2",
   "metadata": {},
   "source": [
    "* We are going to initialize our RNN as a sequence of layers as opposed to a \n",
    "computional graph\n"
   ]
  },
  {
   "cell_type": "code",
   "execution_count": 16,
   "id": "6d3d56e5",
   "metadata": {},
   "outputs": [],
   "source": [
    "regressor = Sequential()\n"
   ]
  },
  {
   "cell_type": "markdown",
   "id": "c86fbba0",
   "metadata": {},
   "source": [
    "* regressor is now an object of sequential class which represenets exactly sequence of \n",
    "layers\n",
    "* This time we are predicting a continous output, which is google stock price at time t+1\n",
    "and so we are doing some regression"
   ]
  },
  {
   "cell_type": "markdown",
   "id": "02fae3f8",
   "metadata": {},
   "source": [
    "### Adding the first LSTM layer and some dropout regularisation to prevent overfitting"
   ]
  },
  {
   "cell_type": "markdown",
   "id": "e7edce9a",
   "metadata": {},
   "source": [
    "* here we are adding LSTM object by using add method\n",
    "* the 3 argument are number of units = number of lstm cells or units,\n",
    "* return sequences = True becoz we are building a stacked LSTM which has several LSTM layers\n",
    "* after stacking the last layer set return seq = False\n",
    "* input_shape = shape of input of xtrain in 3D, but in this 3rd argument of LSTM class we dont have\n",
    "to include the 3D only the 2 last one corr to time steps and indicators because the 1st one \n",
    "corr to observations will be automatically taken into account\n"
   ]
  },
  {
   "cell_type": "code",
   "execution_count": 17,
   "id": "af1c8f23",
   "metadata": {},
   "outputs": [],
   "source": [
    "# units are basically number ofneurons\n",
    "regressor.add(LSTM(units = 50, return_sequences = True, input_shape = (x_train.shape[1], 1)))"
   ]
  },
  {
   "cell_type": "code",
   "execution_count": 18,
   "id": "a836cb33",
   "metadata": {},
   "outputs": [],
   "source": [
    "# here dropout means the rate of neurons we wanna drop in the layers to do this regurilization\n",
    "# 20% neurons of lstm layer will be ignored during training forward and backward\n",
    "# propogation\n",
    "# 0.2*50 = 10 neuron will drop dropped during each iteration of training\n",
    "regressor.add(Dropout(rate = 0.2))"
   ]
  },
  {
   "cell_type": "markdown",
   "id": "0aa1e990",
   "metadata": {},
   "source": [
    "### Adding the second LSTM layer and some dropout regularisation"
   ]
  },
  {
   "cell_type": "code",
   "execution_count": 19,
   "id": "ce63c741",
   "metadata": {},
   "outputs": [],
   "source": [
    "# do not add input shape here\n",
    "regressor.add(LSTM(units = 50, return_sequences = True))\n",
    "regressor.add(Dropout(rate = 0.2))"
   ]
  },
  {
   "cell_type": "markdown",
   "id": "9b10b4d2",
   "metadata": {},
   "source": [
    "### Adding the third LSTM layer and some dropout regularisation"
   ]
  },
  {
   "cell_type": "code",
   "execution_count": 20,
   "id": "03852844",
   "metadata": {},
   "outputs": [],
   "source": [
    "# do not add input shape here\n",
    "regressor.add(LSTM(units = 50, return_sequences = True))\n",
    "regressor.add(Dropout(rate = 0.2))"
   ]
  },
  {
   "cell_type": "markdown",
   "id": "0df9dfab",
   "metadata": {},
   "source": [
    "### Adding the forth LSTM layer and some dropout regularisation"
   ]
  },
  {
   "cell_type": "code",
   "execution_count": 21,
   "id": "b59227ed",
   "metadata": {},
   "outputs": [],
   "source": [
    "# This is the forth lstm layer, not final layer of RNN but after this comes the final layer \n",
    "regressor.add(LSTM(units = 50, return_sequences = False))\n",
    "regressor.add(Dropout(rate = 0.2))\n",
    "# after this we are not going to return any more sequences so set return_sequences = False"
   ]
  },
  {
   "cell_type": "markdown",
   "id": "7374c44f",
   "metadata": {},
   "source": [
    "### Adding the output layer"
   ]
  },
  {
   "cell_type": "code",
   "execution_count": 22,
   "id": "355b601f",
   "metadata": {},
   "outputs": [],
   "source": [
    "# we are not adding an lstm layer but a classic fully conn layer so use dense  class\n",
    "regressor.add(Dense(units = 1))"
   ]
  },
  {
   "cell_type": "markdown",
   "id": "987d1b28",
   "metadata": {},
   "source": [
    "### Compile the RNN"
   ]
  },
  {
   "cell_type": "markdown",
   "id": "bdc83cd0",
   "metadata": {},
   "source": [
    "* For RNN optimizer rmsprop is recommended but also adam is good\n",
    "* loss = this is regression problem and we are predicting a continous value so\n",
    "use mean squared error"
   ]
  },
  {
   "cell_type": "code",
   "execution_count": 24,
   "id": "efaa1074",
   "metadata": {},
   "outputs": [],
   "source": [
    "\n",
    "regressor.compile(optimizer = 'adam', loss = 'mean_squared_error')"
   ]
  },
  {
   "cell_type": "markdown",
   "id": "ec8c49e8",
   "metadata": {},
   "source": [
    "## Fitting the RNN to the training set"
   ]
  },
  {
   "cell_type": "code",
   "execution_count": 25,
   "id": "8f521e75",
   "metadata": {},
   "outputs": [
    {
     "name": "stdout",
     "output_type": "stream",
     "text": [
      "Epoch 1/100\n",
      "38/38 [==============================] - 20s 101ms/step - loss: 0.0460\n",
      "Epoch 2/100\n",
      "38/38 [==============================] - 4s 95ms/step - loss: 0.0067\n",
      "Epoch 3/100\n",
      "38/38 [==============================] - 4s 96ms/step - loss: 0.0049\n",
      "Epoch 4/100\n",
      "38/38 [==============================] - 4s 98ms/step - loss: 0.0054\n",
      "Epoch 5/100\n",
      "38/38 [==============================] - 4s 106ms/step - loss: 0.0054\n",
      "Epoch 6/100\n",
      "38/38 [==============================] - 4s 102ms/step - loss: 0.0054\n",
      "Epoch 7/100\n",
      "38/38 [==============================] - 4s 98ms/step - loss: 0.0044\n",
      "Epoch 8/100\n",
      "38/38 [==============================] - 4s 99ms/step - loss: 0.0050\n",
      "Epoch 9/100\n",
      "38/38 [==============================] - 4s 103ms/step - loss: 0.0044\n",
      "Epoch 10/100\n",
      "38/38 [==============================] - 4s 98ms/step - loss: 0.0047\n",
      "Epoch 11/100\n",
      "38/38 [==============================] - 4s 100ms/step - loss: 0.0041\n",
      "Epoch 12/100\n",
      "38/38 [==============================] - 4s 98ms/step - loss: 0.0039\n",
      "Epoch 13/100\n",
      "38/38 [==============================] - 4s 102ms/step - loss: 0.0040\n",
      "Epoch 14/100\n",
      "38/38 [==============================] - 4s 104ms/step - loss: 0.0044\n",
      "Epoch 15/100\n",
      "38/38 [==============================] - 4s 101ms/step - loss: 0.0039\n",
      "Epoch 16/100\n",
      "38/38 [==============================] - 4s 97ms/step - loss: 0.0041\n",
      "Epoch 17/100\n",
      "38/38 [==============================] - 4s 98ms/step - loss: 0.0034\n",
      "Epoch 18/100\n",
      "38/38 [==============================] - 4s 99ms/step - loss: 0.0037\n",
      "Epoch 19/100\n",
      "38/38 [==============================] - 4s 101ms/step - loss: 0.0035\n",
      "Epoch 20/100\n",
      "38/38 [==============================] - 4s 101ms/step - loss: 0.0037\n",
      "Epoch 21/100\n",
      "38/38 [==============================] - 4s 101ms/step - loss: 0.0036\n",
      "Epoch 22/100\n",
      "38/38 [==============================] - 4s 105ms/step - loss: 0.0032\n",
      "Epoch 23/100\n",
      "38/38 [==============================] - 4s 92ms/step - loss: 0.0035\n",
      "Epoch 24/100\n",
      "38/38 [==============================] - 4s 94ms/step - loss: 0.0034\n",
      "Epoch 25/100\n",
      "38/38 [==============================] - 4s 96ms/step - loss: 0.0031\n",
      "Epoch 26/100\n",
      "38/38 [==============================] - 4s 113ms/step - loss: 0.0028\n",
      "Epoch 27/100\n",
      "38/38 [==============================] - 4s 103ms/step - loss: 0.0033\n",
      "Epoch 28/100\n",
      "38/38 [==============================] - 4s 100ms/step - loss: 0.0033\n",
      "Epoch 29/100\n",
      "38/38 [==============================] - 4s 102ms/step - loss: 0.0031\n",
      "Epoch 30/100\n",
      "38/38 [==============================] - 4s 100ms/step - loss: 0.0033\n",
      "Epoch 31/100\n",
      "38/38 [==============================] - 4s 98ms/step - loss: 0.0027\n",
      "Epoch 32/100\n",
      "38/38 [==============================] - 4s 104ms/step - loss: 0.0029\n",
      "Epoch 33/100\n",
      "38/38 [==============================] - 4s 107ms/step - loss: 0.0033\n",
      "Epoch 34/100\n",
      "38/38 [==============================] - 4s 102ms/step - loss: 0.0028\n",
      "Epoch 35/100\n",
      "38/38 [==============================] - 4s 105ms/step - loss: 0.0027\n",
      "Epoch 36/100\n",
      "38/38 [==============================] - 4s 98ms/step - loss: 0.0032\n",
      "Epoch 37/100\n",
      "38/38 [==============================] - 4s 97ms/step - loss: 0.0026\n",
      "Epoch 38/100\n",
      "38/38 [==============================] - 4s 102ms/step - loss: 0.0029\n",
      "Epoch 39/100\n",
      "38/38 [==============================] - 4s 101ms/step - loss: 0.0026\n",
      "Epoch 40/100\n",
      "38/38 [==============================] - 4s 103ms/step - loss: 0.0025\n",
      "Epoch 41/100\n",
      "38/38 [==============================] - 4s 96ms/step - loss: 0.0026\n",
      "Epoch 42/100\n",
      "38/38 [==============================] - 4s 98ms/step - loss: 0.0024\n",
      "Epoch 43/100\n",
      "38/38 [==============================] - 4s 100ms/step - loss: 0.0025\n",
      "Epoch 44/100\n",
      "38/38 [==============================] - 4s 99ms/step - loss: 0.0027\n",
      "Epoch 45/100\n",
      "38/38 [==============================] - 4s 102ms/step - loss: 0.0025\n",
      "Epoch 46/100\n",
      "38/38 [==============================] - 4s 99ms/step - loss: 0.0024\n",
      "Epoch 47/100\n",
      "38/38 [==============================] - 4s 103ms/step - loss: 0.0023\n",
      "Epoch 48/100\n",
      "38/38 [==============================] - 4s 102ms/step - loss: 0.0024\n",
      "Epoch 49/100\n",
      "38/38 [==============================] - 4s 96ms/step - loss: 0.0026\n",
      "Epoch 50/100\n",
      "38/38 [==============================] - 4s 95ms/step - loss: 0.0023\n",
      "Epoch 51/100\n",
      "38/38 [==============================] - 4s 99ms/step - loss: 0.0022\n",
      "Epoch 52/100\n",
      "38/38 [==============================] - 4s 98ms/step - loss: 0.0025\n",
      "Epoch 53/100\n",
      "38/38 [==============================] - 4s 101ms/step - loss: 0.0024\n",
      "Epoch 54/100\n",
      "38/38 [==============================] - 4s 100ms/step - loss: 0.0023\n",
      "Epoch 55/100\n",
      "38/38 [==============================] - 4s 101ms/step - loss: 0.0022\n",
      "Epoch 56/100\n",
      "38/38 [==============================] - 4s 102ms/step - loss: 0.0024\n",
      "Epoch 57/100\n",
      "38/38 [==============================] - 4s 101ms/step - loss: 0.0024\n",
      "Epoch 58/100\n",
      "38/38 [==============================] - 4s 95ms/step - loss: 0.0019\n",
      "Epoch 59/100\n",
      "38/38 [==============================] - 4s 95ms/step - loss: 0.0022\n",
      "Epoch 60/100\n",
      "38/38 [==============================] - 4s 97ms/step - loss: 0.0020\n",
      "Epoch 61/100\n",
      "38/38 [==============================] - 4s 95ms/step - loss: 0.0020\n",
      "Epoch 62/100\n",
      "38/38 [==============================] - 4s 102ms/step - loss: 0.0021\n",
      "Epoch 63/100\n",
      "38/38 [==============================] - 4s 99ms/step - loss: 0.0018\n",
      "Epoch 64/100\n",
      "38/38 [==============================] - 4s 106ms/step - loss: 0.0019\n",
      "Epoch 65/100\n",
      "38/38 [==============================] - 4s 99ms/step - loss: 0.0021\n",
      "Epoch 66/100\n",
      "38/38 [==============================] - 4s 100ms/step - loss: 0.0020\n",
      "Epoch 67/100\n",
      "38/38 [==============================] - 4s 98ms/step - loss: 0.0020\n",
      "Epoch 68/100\n",
      "38/38 [==============================] - 4s 100ms/step - loss: 0.0022\n",
      "Epoch 69/100\n",
      "38/38 [==============================] - 4s 96ms/step - loss: 0.0020\n",
      "Epoch 70/100\n",
      "38/38 [==============================] - 4s 94ms/step - loss: 0.0019\n",
      "Epoch 71/100\n",
      "38/38 [==============================] - 4s 95ms/step - loss: 0.0017\n",
      "Epoch 72/100\n",
      "38/38 [==============================] - 4s 108ms/step - loss: 0.0017\n",
      "Epoch 73/100\n",
      "38/38 [==============================] - 4s 102ms/step - loss: 0.0019\n",
      "Epoch 74/100\n",
      "38/38 [==============================] - 4s 100ms/step - loss: 0.0017\n",
      "Epoch 75/100\n",
      "38/38 [==============================] - 4s 106ms/step - loss: 0.0015\n",
      "Epoch 76/100\n",
      "38/38 [==============================] - 4s 104ms/step - loss: 0.0018\n",
      "Epoch 77/100\n",
      "38/38 [==============================] - 4s 111ms/step - loss: 0.0016\n",
      "Epoch 78/100\n",
      "38/38 [==============================] - 4s 104ms/step - loss: 0.0019\n",
      "Epoch 79/100\n",
      "38/38 [==============================] - 4s 104ms/step - loss: 0.0017\n",
      "Epoch 80/100\n",
      "38/38 [==============================] - 4s 105ms/step - loss: 0.0018\n",
      "Epoch 81/100\n",
      "38/38 [==============================] - 4s 107ms/step - loss: 0.0019\n",
      "Epoch 82/100\n",
      "38/38 [==============================] - 4s 109ms/step - loss: 0.0018\n",
      "Epoch 83/100\n",
      "38/38 [==============================] - 5s 127ms/step - loss: 0.0016\n",
      "Epoch 84/100\n",
      "38/38 [==============================] - 5s 134ms/step - loss: 0.0018\n",
      "Epoch 85/100\n",
      "38/38 [==============================] - 4s 103ms/step - loss: 0.0017\n",
      "Epoch 86/100\n",
      "38/38 [==============================] - 4s 105ms/step - loss: 0.0018\n",
      "Epoch 87/100\n",
      "38/38 [==============================] - 5s 121ms/step - loss: 0.0017\n",
      "Epoch 88/100\n",
      "38/38 [==============================] - 5s 123ms/step - loss: 0.0017\n",
      "Epoch 89/100\n",
      "38/38 [==============================] - 4s 110ms/step - loss: 0.0014\n",
      "Epoch 90/100\n",
      "38/38 [==============================] - 4s 113ms/step - loss: 0.0015\n",
      "Epoch 91/100\n",
      "38/38 [==============================] - 5s 121ms/step - loss: 0.0013\n",
      "Epoch 92/100\n",
      "38/38 [==============================] - 5s 119ms/step - loss: 0.0014\n",
      "Epoch 93/100\n",
      "38/38 [==============================] - 4s 111ms/step - loss: 0.0016\n",
      "Epoch 94/100\n",
      "38/38 [==============================] - 4s 116ms/step - loss: 0.0015\n",
      "Epoch 95/100\n",
      "38/38 [==============================] - 4s 116ms/step - loss: 0.0014\n",
      "Epoch 96/100\n",
      "38/38 [==============================] - 4s 96ms/step - loss: 0.0015\n",
      "Epoch 97/100\n",
      "38/38 [==============================] - 4s 95ms/step - loss: 0.0015\n",
      "Epoch 98/100\n",
      "38/38 [==============================] - 4s 94ms/step - loss: 0.0016\n",
      "Epoch 99/100\n",
      "38/38 [==============================] - 4s 99ms/step - loss: 0.0015\n",
      "Epoch 100/100\n"
     ]
    },
    {
     "name": "stdout",
     "output_type": "stream",
     "text": [
      "38/38 [==============================] - 4s 95ms/step - loss: 0.0014\n"
     ]
    },
    {
     "data": {
      "text/plain": [
       "<keras.callbacks.History at 0x19d6b333130>"
      ]
     },
     "execution_count": 25,
     "metadata": {},
     "output_type": "execute_result"
    }
   ],
   "source": [
    "regressor.fit(x = x_train, y = y_train, epochs = 100, batch_size = 32)"
   ]
  },
  {
   "cell_type": "markdown",
   "id": "84347500",
   "metadata": {},
   "source": [
    "* if our loss is too small then we might get overfitting and we will get great loss reduced on\n",
    "training data but very bad loss on test data\n",
    "* So after 100 Epochs our loss is 0.0014"
   ]
  },
  {
   "cell_type": "markdown",
   "id": "21a98a45",
   "metadata": {},
   "source": [
    "## Making Predictions and visualizing the results"
   ]
  },
  {
   "cell_type": "markdown",
   "id": "59a2de1e",
   "metadata": {},
   "source": [
    "### Getting the real stock price of jan 2017"
   ]
  },
  {
   "cell_type": "code",
   "execution_count": 26,
   "id": "f3ac89cd",
   "metadata": {},
   "outputs": [],
   "source": [
    "dataset_test = pd.read_csv('Google_Stock_Price_Test.csv')\n",
    "real_stock_price = dataset_test.iloc[:, 1:2].values"
   ]
  },
  {
   "cell_type": "code",
   "execution_count": 27,
   "id": "bd2dd89f",
   "metadata": {},
   "outputs": [
    {
     "data": {
      "text/plain": [
       "array([[778.81],\n",
       "       [788.36],\n",
       "       [786.08],\n",
       "       [795.26],\n",
       "       [806.4 ],\n",
       "       [807.86],\n",
       "       [805.  ],\n",
       "       [807.14],\n",
       "       [807.48],\n",
       "       [807.08],\n",
       "       [805.81],\n",
       "       [805.12],\n",
       "       [806.91],\n",
       "       [807.25],\n",
       "       [822.3 ],\n",
       "       [829.62],\n",
       "       [837.81],\n",
       "       [834.71],\n",
       "       [814.66],\n",
       "       [796.86]])"
      ]
     },
     "execution_count": 27,
     "metadata": {},
     "output_type": "execute_result"
    }
   ],
   "source": [
    "real_stock_price"
   ]
  },
  {
   "cell_type": "markdown",
   "id": "603a0cf9",
   "metadata": {},
   "source": [
    "### Getting the predicted stock price of 2017"
   ]
  },
  {
   "cell_type": "markdown",
   "id": "a39e2afb",
   "metadata": {},
   "source": [
    "*1)  We trained our model to be able to predict the stock price at time t+1 based on 60\n",
    "previous stock prices and therefore to predict each stock price of each financial day of 2017\n",
    "we will need 60 previous stock prices of 60 previous financial days before the actual day\n",
    "\n",
    "*2) In order to get each day of 2017 jan the 60 previous stock prices of 60 previous days\n",
    "we will need both test and training sets(December 2016) so we have to concatenate it\n",
    "\n",
    "*3) We cant concatenate the training_set and test_set(real_stock_price) will lead us to a problem\n",
    "* As we concate above 2 we will need to scale training and test sets but if we do that we will change actual\n",
    "test values\n",
    "* So to handle this problem by making another concatenation which will be to concatenate the\n",
    "original dataframes those are dataset_train and dataset_test and get google stock price\n",
    "..after this we will get input of each prediction (60 previous prices) and this is what we will scale to get predictions\n",
    "* That way we are only scaling the inputs and not changing the actual values\n",
    "* as our RNN was trained on scaled inputs so for predictions we have to scale training too"
   ]
  },
  {
   "cell_type": "code",
   "execution_count": 28,
   "id": "9d95eb60",
   "metadata": {},
   "outputs": [],
   "source": [
    "dataset_total = pd.concat((dataset_train['Open'] ,dataset_test['Open']), axis = 0)"
   ]
  },
  {
   "cell_type": "code",
   "execution_count": 39,
   "id": "e9f4922e",
   "metadata": {},
   "outputs": [],
   "source": [
    "# to predict the stock prices of jan 2017..for the first day of 2017 we will need 60 previous days\n",
    "# first financial day is jan 3\n",
    "# lower bond = jan3 - 60 days...\n",
    "# upper bound = last financial day = last financial day of jan - 60\n",
    "# so the last stock price we will need input will be previous stock price just before\n",
    "# the last stock price we predict and this will be last stock price of our dataset\n",
    "# len(dataset_total)-len(dataset_test) gets jan 3\n",
    "inputs = dataset_total[len(dataset_total)-len(dataset_test) - 60:].values"
   ]
  },
  {
   "cell_type": "code",
   "execution_count": 40,
   "id": "e973bcb6",
   "metadata": {},
   "outputs": [
    {
     "data": {
      "text/plain": [
       "(80,)"
      ]
     },
     "execution_count": 40,
     "metadata": {},
     "output_type": "execute_result"
    }
   ],
   "source": [
    "# it is not shaped in right way\n",
    "inputs.shape"
   ]
  },
  {
   "cell_type": "code",
   "execution_count": 42,
   "id": "70002301",
   "metadata": {},
   "outputs": [
    {
     "data": {
      "text/plain": [
       "(80, 1)"
      ]
     },
     "execution_count": 42,
     "metadata": {},
     "output_type": "execute_result"
    }
   ],
   "source": [
    "inputs = inputs.reshape(-1,1)\n",
    "inputs.shape"
   ]
  },
  {
   "cell_type": "markdown",
   "id": "4db96e5c",
   "metadata": {},
   "source": [
    "* now to get 3D format expected by neural network for predictions\n",
    "* before that we need to scale our inputs"
   ]
  },
  {
   "cell_type": "code",
   "execution_count": 43,
   "id": "cacf3c5a",
   "metadata": {},
   "outputs": [
    {
     "name": "stderr",
     "output_type": "stream",
     "text": [
      "F:\\Anaconda\\lib\\site-packages\\sklearn\\base.py:420: UserWarning: X does not have valid feature names, but MinMaxScaler was fitted with feature names\n",
      "  warnings.warn(\n"
     ]
    }
   ],
   "source": [
    "# as our sc objected was already fitted to training set use only transform method\n",
    "# scaling we applied for input should be same that of training set\n",
    "inputs = sc.transform(inputs)"
   ]
  },
  {
   "cell_type": "code",
   "execution_count": 44,
   "id": "0cb07b6f",
   "metadata": {},
   "outputs": [
    {
     "data": {
      "text/plain": [
       "80"
      ]
     },
     "execution_count": 44,
     "metadata": {},
     "output_type": "execute_result"
    }
   ],
   "source": [
    "inputs.shape[0]"
   ]
  },
  {
   "cell_type": "code",
   "execution_count": 45,
   "id": "55c2819e",
   "metadata": {},
   "outputs": [],
   "source": [
    "x_test = []\n",
    "# jan 2017 has 20 financialdays\n",
    "# as we are going to get 60 previous stock prices we are going to start from 60th observation in for loop\n",
    "for i in range(60, inputs.shape[0]):\n",
    "    x_test.append(inputs[i-60:i, 0]) # upper bound get excluded, 0 means 1 column (google stock price  column)\n",
    "\n",
    "x_test = np.array(x_test)"
   ]
  },
  {
   "cell_type": "code",
   "execution_count": 46,
   "id": "79c830eb",
   "metadata": {},
   "outputs": [],
   "source": [
    "# to convert to 3d format\n",
    "x_test = np.reshape(x_test, (x_test.shape[0], x_test.shape[1], 1))"
   ]
  },
  {
   "cell_type": "markdown",
   "id": "0387fc32",
   "metadata": {},
   "source": [
    "## Making Predictions"
   ]
  },
  {
   "cell_type": "code",
   "execution_count": 47,
   "id": "eb1b507c",
   "metadata": {},
   "outputs": [
    {
     "name": "stdout",
     "output_type": "stream",
     "text": [
      "1/1 [==============================] - 4s 4s/step\n"
     ]
    }
   ],
   "source": [
    "predicted_stock_price = regressor.predict(x_test)"
   ]
  },
  {
   "cell_type": "code",
   "execution_count": 48,
   "id": "e030a131",
   "metadata": {},
   "outputs": [],
   "source": [
    "# inverse the scaling of our predictions to get our original scale"
   ]
  },
  {
   "cell_type": "code",
   "execution_count": 49,
   "id": "5baff98b",
   "metadata": {},
   "outputs": [],
   "source": [
    "predicted_stock_price = sc.inverse_transform(predicted_stock_price)"
   ]
  },
  {
   "cell_type": "code",
   "execution_count": 50,
   "id": "00315199",
   "metadata": {},
   "outputs": [
    {
     "data": {
      "text/plain": [
       "array([[785.1856 ],\n",
       "       [782.43176],\n",
       "       [782.4509 ],\n",
       "       [783.70636],\n",
       "       [787.0941 ],\n",
       "       [793.1676 ],\n",
       "       [798.958  ],\n",
       "       [801.64453],\n",
       "       [802.1859 ],\n",
       "       [801.7293 ],\n",
       "       [801.03375],\n",
       "       [800.3405 ],\n",
       "       [799.8859 ],\n",
       "       [800.30817],\n",
       "       [801.3264 ],\n",
       "       [806.0315 ],\n",
       "       [813.21124],\n",
       "       [821.1414 ],\n",
       "       [825.7932 ],\n",
       "       [822.1087 ]], dtype=float32)"
      ]
     },
     "execution_count": 50,
     "metadata": {},
     "output_type": "execute_result"
    }
   ],
   "source": [
    "predicted_stock_price"
   ]
  },
  {
   "cell_type": "markdown",
   "id": "08cadc67",
   "metadata": {},
   "source": [
    "## Visualizing The Results"
   ]
  },
  {
   "cell_type": "code",
   "execution_count": 51,
   "id": "117d9dbf",
   "metadata": {},
   "outputs": [
    {
     "data": {
      "image/png": "[encoded data removed]",
      "text/plain": [
       "<Figure size 640x480 with 1 Axes>"
      ]
     },
     "metadata": {},
     "output_type": "display_data"
    }
   ],
   "source": [
    "plt.plot(real_stock_price, color = 'red', label = 'Real Google Stock Price Jan 2017')\n",
    "plt.plot(predicted_stock_price, color = 'Blue', label = 'Predicted Google Stock Price Jan 2017')\n",
    "plt.title('Google Stock Price Prediction')\n",
    "plt.xlabel('Time')\n",
    "plt.ylabel('Google Stock Prices')\n",
    "plt.legend()\n",
    "plt.show()"
   ]
  },
  {
   "cell_type": "markdown",
   "id": "0d809c8c",
   "metadata": {},
   "source": [
    "## Comments\n"
   ]
  },
  {
   "cell_type": "markdown",
   "id": "0fe09413",
   "metadata": {},
   "source": [
    "* We can see our model laggining behind actual values -- Because it cannot react\n",
    "to fast, non linear changes fastly... that last spike is non linear change\n",
    "* Our model reacts good to smooth changes and manages to follow upward and downward \n",
    "trends"
   ]
  },
  {
   "cell_type": "code",
   "execution_count": null,
   "id": "84f42e45",
   "metadata": {},
   "outputs": [],
   "source": []
  }
 ],
 "metadata": {
  "kernelspec": {
   "display_name": "Python 3 (ipykernel)",
   "language": "python",
   "name": "python3"
  },
  "language_info": {
   "codemirror_mode": {
    "name": "ipython",
    "version": 3
   },
   "file_extension": ".py",
   "mimetype": "text/x-python",
   "name": "python",
   "nbconvert_exporter": "python",
   "pygments_lexer": "ipython3",
   "version": "3.10.9"
  }
 },
 "nbformat": 4,
 "nbformat_minor": 5
}
